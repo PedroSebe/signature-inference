{
 "cells": [
  {
   "cell_type": "markdown",
   "metadata": {},
   "source": [
    "# Inference of mutational signatures using Gibbs sampling\n",
    "---"
   ]
  },
  {
   "cell_type": "markdown",
   "metadata": {},
   "source": [
    "# Setup"
   ]
  },
  {
   "cell_type": "code",
   "execution_count": null,
   "metadata": {},
   "outputs": [],
   "source": [
    "import pandas as pd\n",
    "import arviz as az\n",
    "import seaborn as sns\n",
    "import numpy as np\n",
    "from matplotlib import pyplot as plt\n",
    "from time import time\n",
    "from utils import *"
   ]
  },
  {
   "cell_type": "code",
   "execution_count": null,
   "metadata": {},
   "outputs": [],
   "source": [
    "df = pd.read_csv(\"../../../resources/NikZainal-breast_cancer.csv\", sep=\"\\t\", \n",
    "        usecols=[\"sample_id\",\"5_prime_flanking_sequence_in_pyrimidine_context\",\"ref_base_pyrimidine_context\",\n",
    "                    \"mutant_base_pyrimidine_context\",\"3_prime_flanking_sequence_in_pyrimidine_context\"])\n",
    "df[\"substitution_type\"] = (df[\"5_prime_flanking_sequence_in_pyrimidine_context\"].str[-1] + \n",
    "                            \"[\" + df[\"ref_base_pyrimidine_context\"] + \n",
    "                            \">\" + df[\"mutant_base_pyrimidine_context\"] +\n",
    "                            \"]\" + df[\"3_prime_flanking_sequence_in_pyrimidine_context\"].str[0])\n",
    "df"
   ]
  },
  {
   "cell_type": "code",
   "execution_count": null,
   "metadata": {},
   "outputs": [],
   "source": [
    "counts = pd.crosstab(df[\"sample_id\"], df[\"substitution_type\"])\n",
    "counts"
   ]
  },
  {
   "cell_type": "code",
   "execution_count": null,
   "metadata": {},
   "outputs": [],
   "source": [
    "sns.clustermap(counts.div(counts.sum(axis=1), axis=0), robust=True, cmap=\"Blues\")"
   ]
  },
  {
   "cell_type": "markdown",
   "metadata": {},
   "source": [
    "# Sampling"
   ]
  },
  {
   "cell_type": "code",
   "execution_count": null,
   "metadata": {},
   "outputs": [],
   "source": [
    "start = time()\n",
    "set_srng(seed=1234)\n",
    "mcmc_results = sample_fixed_hyperparams(counts, mcmc_steps=100000)\n",
    "mcmc_time = time() - start"
   ]
  },
  {
   "cell_type": "code",
   "execution_count": null,
   "metadata": {},
   "outputs": [],
   "source": [
    "print(f\"MCMC time: {mcmc_time:.1f}s\")"
   ]
  },
  {
   "cell_type": "code",
   "execution_count": null,
   "metadata": {},
   "outputs": [],
   "source": [
    "az.to_netcdf(mcmc_results, \"../../../results/signeR-replication/fixed_hyperparams.netcdf\")"
   ]
  },
  {
   "cell_type": "code",
   "execution_count": null,
   "metadata": {},
   "outputs": [],
   "source": [
    "mcmc_results = az.from_netcdf(\"../../../results/signeR-replication/fixed_hyperparams.netcdf\")"
   ]
  },
  {
   "cell_type": "markdown",
   "metadata": {},
   "source": [
    "# Effective sample size"
   ]
  },
  {
   "cell_type": "code",
   "execution_count": null,
   "metadata": {},
   "outputs": [],
   "source": [
    "az.ess(mcmc_results).median()"
   ]
  },
  {
   "cell_type": "code",
   "execution_count": null,
   "metadata": {},
   "outputs": [],
   "source": [
    "az.ess(mcmc_results).min()"
   ]
  },
  {
   "cell_type": "code",
   "execution_count": null,
   "metadata": {},
   "outputs": [],
   "source": [
    "az.ess(mcmc_results).max()"
   ]
  },
  {
   "cell_type": "code",
   "execution_count": null,
   "metadata": {},
   "outputs": [],
   "source": [
    "az.ess(mcmc_results).median()/mcmc_time"
   ]
  },
  {
   "cell_type": "code",
   "execution_count": null,
   "metadata": {},
   "outputs": [],
   "source": [
    "az.ess(mcmc_results).min()/mcmc_time"
   ]
  },
  {
   "cell_type": "code",
   "execution_count": null,
   "metadata": {},
   "outputs": [],
   "source": [
    "az.ess(mcmc_results).max()/mcmc_time"
   ]
  },
  {
   "cell_type": "markdown",
   "metadata": {},
   "source": [
    "# Point estimates: Signature spectra"
   ]
  },
  {
   "cell_type": "code",
   "execution_count": null,
   "metadata": {},
   "outputs": [],
   "source": [
    "breast_sigs = mcmc_results.posterior.mean([\"chain\",\"draw\"]).signature.to_pandas()\n",
    "breast_sigs"
   ]
  },
  {
   "cell_type": "code",
   "execution_count": null,
   "metadata": {},
   "outputs": [],
   "source": [
    "sns.clustermap(breast_sigs, cmap=\"Blues\")"
   ]
  },
  {
   "cell_type": "code",
   "execution_count": null,
   "metadata": {},
   "outputs": [],
   "source": [
    "def rank(series):\n",
    "    sorted_series = series.sort_values(ascending=False)\n",
    "    return sorted_series.index + \": \" + sorted_series.map(\"{:.1%}\".format).values\n",
    "\n",
    "breast_sigs.T.apply(rank).head(5).reset_index().drop(columns=\"substitution\")"
   ]
  },
  {
   "cell_type": "markdown",
   "metadata": {},
   "source": [
    "# Point estimates: Signature exposures"
   ]
  },
  {
   "cell_type": "code",
   "execution_count": null,
   "metadata": {},
   "outputs": [],
   "source": [
    "expected_exposures = mcmc_results.posterior.mean([\"chain\",\"draw\"]).exposure.to_pandas()\n",
    "sns.clustermap(expected_exposures, cmap=\"Greens\")"
   ]
  },
  {
   "cell_type": "code",
   "execution_count": null,
   "metadata": {},
   "outputs": [],
   "source": [
    "az.plot_forest(\n",
    "    mcmc_results.posterior.exposure.mean(\"specimen\"),\n",
    "    var_names=[\"exposure\"], \n",
    "    kind='ridgeplot', \n",
    "    ridgeplot_quantiles=[0.5],\n",
    "    hdi_prob=0.99,\n",
    "    ridgeplot_overlap=3)"
   ]
  },
  {
   "cell_type": "markdown",
   "metadata": {},
   "source": [
    "# Comparison to COSMIC signatures"
   ]
  },
  {
   "cell_type": "code",
   "execution_count": null,
   "metadata": {},
   "outputs": [],
   "source": [
    "cosmic_sigs = pd.read_csv(\"../../../resources/COSMIC_v3.2_SBS_GRCh37.txt\", sep=\"\\t\", index_col=\"Type\")\n",
    "cosmic_sigs = cosmic_sigs.loc[breast_sigs.columns]"
   ]
  },
  {
   "cell_type": "code",
   "execution_count": null,
   "metadata": {},
   "outputs": [],
   "source": [
    "def l2_norms(df):\n",
    "    return df.apply(np.linalg.norm).values\n",
    "\n",
    "cosine_sim = breast_sigs @ cosmic_sigs / (l2_norms(breast_sigs.T)[:, None] * l2_norms(cosmic_sigs)[None, :])\n",
    "cosine_sim = cosine_sim.applymap(\"{:.3f}\".format)\n",
    "cosine_sim_long = cosine_sim.reset_index().melt(\"sig\").sort_values(by=\"value\", ascending=False)\n",
    "cosine_sim_long.columns = [\"Signature (repl.)\", \"Signature (COSMIC)\", \"Similarity\"]\n",
    "cosine_sim_long.groupby(\"Signature (repl.)\").head(1).reset_index().drop(columns=\"index\")"
   ]
  },
  {
   "cell_type": "markdown",
   "metadata": {},
   "source": [
    "## Is S4 driven by spontaneous deamination?"
   ]
  },
  {
   "cell_type": "code",
   "execution_count": null,
   "metadata": {},
   "outputs": [],
   "source": [
    "CpG = mcmc_results.posterior.substitution.str.contains(\"\\[C>T\\]G\")\n",
    "S4_CpG_proportion = (\n",
    "    mcmc_results.posterior\n",
    "    .signature\n",
    "    .sel(sig=\"S4\", substitution=CpG)\n",
    "    .sum(\"substitution\")\n",
    "    .values\n",
    "    .flatten()\n",
    ")"
   ]
  },
  {
   "cell_type": "code",
   "execution_count": null,
   "metadata": {},
   "outputs": [],
   "source": [
    "sns.displot(S4_CpG_proportion, aspect=2)\n",
    "plt.axvline(S4_CpG_proportion.mean(), ls=\"--\", c=\"k\", label=\"Posterior mean\")\n",
    "plt.axvline(4/96, ls=\"--\", c=\"gray\", label=\"Prior mean\")\n",
    "plt.axvline(cosmic_sigs.loc[cosmic_sigs.index.str.contains(\"\\[C>T\\]G\"), \"SBS1\"].sum(), ls=\"--\", c=\"r\", label=\"COSMIC SBS1\")\n",
    "plt.xlim(0,1)\n",
    "plt.yticks([])\n",
    "plt.ylabel(\"\")\n",
    "plt.xlabel(\"Proporção de desaminação CpG na assinatura S4\")\n",
    "plt.legend();"
   ]
  }
 ],
 "metadata": {
  "kernelspec": {
   "display_name": "Python 3.9.13 64-bit ('mut_sigs')",
   "language": "python",
   "name": "python3"
  },
  "language_info": {
   "codemirror_mode": {
    "name": "ipython",
    "version": 3
   },
   "file_extension": ".py",
   "mimetype": "text/x-python",
   "name": "python",
   "nbconvert_exporter": "python",
   "pygments_lexer": "ipython3",
   "version": "3.9.13"
  },
  "orig_nbformat": 4,
  "vscode": {
   "interpreter": {
    "hash": "b5ee639cf1ae4a76678dd7de17ff12418058ec8bb83a1e42d205648fc8d490eb"
   }
  }
 },
 "nbformat": 4,
 "nbformat_minor": 2
}
